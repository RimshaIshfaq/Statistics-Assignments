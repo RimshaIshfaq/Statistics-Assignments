{
 "cells": [
  {
   "cell_type": "markdown",
   "id": "0ea8a832-a61e-4813-9d06-11b73f07b2ee",
   "metadata": {},
   "source": [
    "# Assignment by Zainalysis\n",
    "\n"
   ]
  },
  {
   "cell_type": "markdown",
   "id": "cee8e851-bb70-43e9-b33f-6537768f9415",
   "metadata": {},
   "source": [
    "## Basic Descriptive Statistics"
   ]
  },
  {
   "cell_type": "markdown",
   "id": "56f6c50c-d969-4be3-879e-ba7a467cd60a",
   "metadata": {},
   "source": [
    "### Question: Calculate the mean, median, mode, range, variance, and standard deviation for the following dataset: [12, 15, 14, 10, 8, 11, 18, 14, 16, 19, 21]\n",
    "\n"
   ]
  },
  {
   "cell_type": "markdown",
   "id": "8ec8f967-6b95-4358-ae2a-15e288df0f69",
   "metadata": {},
   "source": [
    "#### Farmulas \n",
    "-Mean\n",
    "$$\n",
    "\\text{Mean} = \\frac{\\sum{(x_i)}}{n}\n",
    "$$\n",
    "-Mode= The most frequent number in the dataset\n",
    "\n",
    "-Median= Middle part of dataset (sort data, and get the middle value, in case of even dataset, average of middle two values is median)\n",
    "\n",
    "-Range= Maximum Value-Minimum Value\n",
    "\n",
    "-Variance\n",
    "$$\n",
    "\\text{Variance} = \\frac{\\sum{(x_i - \\mu)^2}}{n}\n",
    "$$\n",
    "-Standard Deviation\n",
    "$$\n",
    "\\sigma = \\sqrt{\\frac{\\sum{(x_i - \\mu)^2}}{n}}\n",
    "$$\n"
   ]
  },
  {
   "cell_type": "code",
   "execution_count": 1,
   "id": "c3f0d176-15ee-4135-bb53-7577fa76e410",
   "metadata": {},
   "outputs": [
    {
     "name": "stdout",
     "output_type": "stream",
     "text": [
      "The mean of dataset is 14.363636363636363\n"
     ]
    }
   ],
   "source": [
    "#calculating mean\n",
    "A= [12,15,14,10,8,11,18,14,16,19,21]\n",
    "mean = sum(A)/len(A)\n",
    "\n",
    "print(\"The mean of dataset is\", mean)"
   ]
  },
  {
   "cell_type": "code",
   "execution_count": 2,
   "id": "44b48d7c-3729-4a7f-9597-7ff659868f2f",
   "metadata": {},
   "outputs": [
    {
     "name": "stdout",
     "output_type": "stream",
     "text": [
      "The mode of dataset is 14\n"
     ]
    }
   ],
   "source": [
    "#calculating mode\n",
    "import statistics\n",
    "mode=statistics.mode(A)\n",
    "print(\"The mode of dataset is\", mode)"
   ]
  },
  {
   "cell_type": "code",
   "execution_count": 3,
   "id": "913c9e70-56b4-49b1-ac85-76b8b4bdbe0c",
   "metadata": {},
   "outputs": [
    {
     "name": "stdout",
     "output_type": "stream",
     "text": [
      "The median of dataset is 14\n"
     ]
    }
   ],
   "source": [
    "#calculating median\n",
    "import statistics\n",
    "median=statistics.median(A)\n",
    "print(\"The median of dataset is\", median)"
   ]
  },
  {
   "cell_type": "code",
   "execution_count": 4,
   "id": "27f5113d-36b1-47a6-aa72-e44221d5362a",
   "metadata": {},
   "outputs": [
    {
     "name": "stdout",
     "output_type": "stream",
     "text": [
      "The range of dataset is 13\n"
     ]
    }
   ],
   "source": [
    "#calculating range\n",
    "range=max(A)-min(A)\n",
    "print(\"The range of dataset is\", range)"
   ]
  },
  {
   "cell_type": "code",
   "execution_count": 5,
   "id": "9a9e6356-d14a-468a-993d-e0a74ab5b476",
   "metadata": {},
   "outputs": [
    {
     "name": "stdout",
     "output_type": "stream",
     "text": [
      "the variance of dataset is 15.854545454545455\n"
     ]
    }
   ],
   "source": [
    "#calculating variance \n",
    "var= statistics.variance(A)\n",
    "print(\"the variance of dataset is\", var)"
   ]
  },
  {
   "cell_type": "code",
   "execution_count": 6,
   "id": "2398c4a3-adf6-4bab-abe9-35c1120cbdb7",
   "metadata": {},
   "outputs": [
    {
     "name": "stdout",
     "output_type": "stream",
     "text": [
      "The standard deviation of dataset is 3.796475094149291\n"
     ]
    }
   ],
   "source": [
    "#calculating standard variance\n",
    "S_D=statistics.pstdev(A)\n",
    "print(\"The standard deviation of dataset is\", S_D)"
   ]
  },
  {
   "cell_type": "markdown",
   "id": "0781840e-4bea-4307-a621-4a92ee77b0e0",
   "metadata": {},
   "source": [
    "### Question: Create a frequency distribution table and histogram for the dataset above."
   ]
  },
  {
   "cell_type": "code",
   "execution_count": 7,
   "id": "d074da7c-c77b-4ad5-83f2-1e7c33d338b1",
   "metadata": {},
   "outputs": [
    {
     "name": "stdout",
     "output_type": "stream",
     "text": [
      "frequency Distribution:\n",
      "   Data  Count\n",
      "0     8      1\n",
      "1    10      1\n",
      "2    11      1\n",
      "3    12      1\n",
      "4    14      2\n",
      "5    15      1\n",
      "6    16      1\n",
      "7    18      1\n",
      "8    19      1\n",
      "9    21      1\n"
     ]
    }
   ],
   "source": [
    "#creating frequency distribution using pandas\n",
    "import pandas as pd\n",
    "\n",
    "#let's make frequency distribution\n",
    "frequency_distribution=pd.Series(A).value_counts().sort_index()\n",
    "\n",
    "#let's give its columns a name\n",
    "frequency_distribution_df=frequency_distribution.reset_index()\n",
    "frequency_distribution_df.columns=['Data','Count']\n",
    "\n",
    "#print the freuency distribution\n",
    "print(\"frequency Distribution:\")\n",
    "print(frequency_distribution_df)"
   ]
  },
  {
   "cell_type": "code",
   "execution_count": 10,
   "id": "431feca9-ace8-4d5d-ba8d-a340fcdb8bb4",
   "metadata": {},
   "outputs": [
    {
     "data": {
      "image/png": "[encoded data removed]",
      "text/plain": [
       "<Figure size 640x480 with 1 Axes>"
      ]
     },
     "metadata": {},
     "output_type": "display_data"
    }
   ],
   "source": [
    "#creating histogram using matplotlib\n",
    "import matplotlib.pyplot as plt\n",
    "\n",
    "plt.hist(A, bins=5, edgecolor='pink')\n",
    "plt.title(\"Histogram of Data\")\n",
    "plt.xlabel(\"Value\")\n",
    "plt.ylabel(\"Frequency\")\n",
    "plt.show()\n"
   ]
  },
  {
   "cell_type": "markdown",
   "id": "7078ec5a-9fd2-4f27-827d-0c55062db030",
   "metadata": {},
   "source": [
    "### Question: Calculate the 25th, 50th, and 75th percentiles for the dataset."
   ]
  },
  {
   "cell_type": "code",
   "execution_count": 21,
   "id": "aca8f8bf-6444-4b32-bcfe-baa9cfa914db",
   "metadata": {},
   "outputs": [
    {
     "name": "stdout",
     "output_type": "stream",
     "text": [
      "25th percentile: 11.5\n",
      "50th percentile (Median): 14.0\n",
      "75th percentile: 17.0\n"
     ]
    }
   ],
   "source": [
    "import numpy as np\n",
    "\n",
    "# Data\n",
    "A = [12, 15, 14, 10, 8, 11, 18, 14, 16, 19, 21]\n",
    "\n",
    "# Calculate the 25th, 50th (median), and 75th percentiles\n",
    "percentiles = np.percentile(A, [25, 50, 75])\n",
    "\n",
    "# Print the result\n",
    "print(\"25th percentile:\", percentiles[0])\n",
    "print(\"50th percentile (Median):\", percentiles[1])\n",
    "print(\"75th percentile:\", percentiles[2])\n"
   ]
  },
  {
   "cell_type": "markdown",
   "id": "a07d1c21-5170-4e6e-86af-fce3ef08027e",
   "metadata": {},
   "source": [
    "## Section 2: Inferential Statistics"
   ]
  },
  {
   "cell_type": "markdown",
   "id": "9ec3c2c9-e182-4960-8a22-fa689404be44",
   "metadata": {},
   "source": [
    "### Question: Conduct a t-test to compare two datasets: [23, 21, 25, 22, 27,29, 30] and [18, 20, 17, 19, 15, 22, 24]. Determine if there is a significant difference between them.\n",
    "\n"
   ]
  },
  {
   "cell_type": "code",
   "execution_count": 5,
   "id": "f11ad1cb-4db2-4c49-91b4-c729c82f797d",
   "metadata": {},
   "outputs": [
    {
     "name": "stdout",
     "output_type": "stream",
     "text": [
      "T_statistics: 3.4254816613103327\n",
      "p_value: 0.005027424730315605\n"
     ]
    }
   ],
   "source": [
    "#it will be 2 sample t - test, as we have two independent samples from population\n",
    "B= [23,21,25,22,27,29,30]\n",
    "C= [18,20,17,19,15,22,24]\n",
    "\n",
    "#we will be using scipy library for this test\n",
    "from scipy.stats import ttest_ind\n",
    "\n",
    "#performing t-test\n",
    "t_stat, p_value = ttest_ind(B,C)\n",
    "\n",
    "print(\"T_statistics:\",t_stat)\n",
    "print(\"p_value:\", p_value)"
   ]
  },
  {
   "cell_type": "code",
   "execution_count": 9,
   "id": "2be7f35f-6ab6-4daa-add8-9ce83ccaade4",
   "metadata": {},
   "outputs": [
    {
     "name": "stdout",
     "output_type": "stream",
     "text": [
      "reject the null hypothesis(means are significantly different)\n"
     ]
    }
   ],
   "source": [
    "#now let's interpret results from it\n",
    "if p_value<0.5:\n",
    "    print(\"reject the null hypothesis(means are significantly different)\")\n",
    "\n",
    "else:\n",
    "    print(\"accept the alternative hypothesis(means are not significantly different)\")\n",
    "\n",
    "#Result: yes, there is significant difference between two datasets"
   ]
  },
  {
   "cell_type": "markdown",
   "id": "b7eb69d8-d096-4516-9433-479dfdb86f2f",
   "metadata": {},
   "source": [
    "### Question: Perform a chi-square test on the following contingency table:\n",
    "| Category | A  | B  |\n",
    "|----------|----|----|\n",
    "| X        | 20 | 30 |\n",
    "| Y        | 25 | 35 |\n"
   ]
  },
  {
   "cell_type": "code",
   "execution_count": 3,
   "id": "71540344-5fa0-4842-9a30-ace57d7bab47",
   "metadata": {},
   "outputs": [
    {
     "name": "stdout",
     "output_type": "stream",
     "text": [
      "chi square statistics 0.0\n",
      "p_value 1.0\n",
      "degree of freedom 1\n",
      "expected frequencies:\n",
      "[20.45454545 29.54545455]\n",
      "[24.54545455 35.45454545]\n"
     ]
    }
   ],
   "source": [
    "from scipy.stats import chi2_contingency\n",
    "contingency_table = [\n",
    "                    [20,30],\n",
    "                    [25,35]\n",
    "]\n",
    "\n",
    "#let's perform chi_2 test\n",
    "\n",
    "chi2, p, dof, expected = chi2_contingency(contingency_table)\n",
    "\n",
    "print(\"chi square statistics\", chi2)\n",
    "print(\"p_value\", p)\n",
    "print(\"degree of freedom\", dof)\n",
    "print(\"expected frequencies:\",)\n",
    "for row in expected:\n",
    "    print(row)\n"
   ]
  },
  {
   "cell_type": "markdown",
   "id": "cf07253a-d20a-498b-946f-d9d15c449161",
   "metadata": {},
   "source": [
    "### Question: Conduct a one-way ANOVA for the following groups: Group 1: [5, 7,9, 6, 8], Group 2: [10, 12, 11, 14, 13], Group 3: [15, 17, 16, 18, 19]."
   ]
  },
  {
   "cell_type": "markdown",
   "id": "ceb04e87-bc39-4b99-9bda-36f53591f1d6",
   "metadata": {},
   "source": [
    "#### One- way Anova:\n",
    "    \"It is for one factor with atleast two independent levels\"\n",
    "- Null hyothesis = means of all groups is same\n",
    "- Alternative hypothesis = atleast one sample mean is different\n",
    "\n",
    "- F_factor=variance between sample / variance within sample"
   ]
  },
  {
   "cell_type": "code",
   "execution_count": 17,
   "id": "3a1d72e9-06b8-4864-aa91-d6ca417469f5",
   "metadata": {},
   "outputs": [
    {
     "name": "stdout",
     "output_type": "stream",
     "text": [
      "F_statistic 50.0\n",
      "P-value 1.5127924217375409e-06\n",
      "null hypothesis is accepted, all means are same\n"
     ]
    }
   ],
   "source": [
    "#let's solve this problem using scipy library\n",
    "\n",
    "import scipy.stats as stats\n",
    "import pandas as pd\n",
    "\n",
    "data={\n",
    "    \"Group_1\":[5,7,9,6,8],\n",
    "    \"Group_2\":[10,12,11,14,13],\n",
    "    \"Group_3\":[15,17,16,18,19]\n",
    "}\n",
    "\n",
    "df = pd.DataFrame(data)\n",
    "\n",
    "#let's perform anova test\n",
    "\n",
    "f_stats, p_value = stats.f_oneway(df[\"Group_1\"], df[\"Group_2\"], df[\"Group_3\"])\n",
    "\n",
    "print(\"F_statistic\", f_stats)\n",
    "print(\"P-value\", p_value)\n",
    "\n",
    "if p<0.05:\n",
    "    print(\"null hypothesis is rejected, atleast one group mean is different\")\n",
    "else:\n",
    "    print(\"null hypothesis is accepted, all means are same\")"
   ]
  },
  {
   "cell_type": "markdown",
   "id": "154fee3b-bc5f-4f12-8716-16f8e648a095",
   "metadata": {},
   "source": [
    "## Section 3: Regression Analysis"
   ]
  },
  {
   "cell_type": "markdown",
   "id": "b71ba940-7a66-4ea3-8ddc-8feb847fc616",
   "metadata": {},
   "source": [
    "### Question: Perform a simple linear regression using the following dataset:\n",
    "X = [1, 2, 3, 4, 5, 6, 7]\n",
    "Y = [2, 4, 5, 4, 6, 8, 9]\n"
   ]
  },
  {
   "cell_type": "markdown",
   "id": "33c15346-f9f1-4458-bb57-81881b24b8f5",
   "metadata": {},
   "source": [
    "#### Linear Regression Model:\n",
    "is a statistic medthod to establish a relationship between one or more independent variable (input)(X) and a dependent varoiable (output)(Y), by fitting a linear equation to the data.\n",
    "\n"
   ]
  },
  {
   "cell_type": "code",
   "execution_count": 7,
   "id": "f52fe49e-f81d-4b42-b129-66c91d187a9a",
   "metadata": {},
   "outputs": [
    {
     "name": "stdout",
     "output_type": "stream",
     "text": [
      "Slope: 1.071428571428571\n",
      "Intercept: 1.142857142857145\n"
     ]
    },
    {
     "data": {
      "image/png": "[encoded data removed]",
      "text/plain": [
       "<Figure size 640x480 with 1 Axes>"
      ]
     },
     "metadata": {},
     "output_type": "display_data"
    }
   ],
   "source": [
    "import numpy as np\n",
    "from sklearn.linear_model import LinearRegression\n",
    "import matplotlib.pyplot as plt\n",
    "\n",
    "#let's get data\n",
    "#we will convert input(independent) into 2D\n",
    "X=np.array([1,2,3,4,5,6,7]).reshape(-1,1)\n",
    "Y=np.array([2,4,5,4,6,8,9])\n",
    "\n",
    "\n",
    "#now perform LinearRegression\n",
    "model = LinearRegression()\n",
    "model.fit(X,Y)\n",
    "\n",
    "slope=model.coef_[0]\n",
    "intercept=model.intercept_\n",
    "\n",
    "print(\"Slope:\", slope)\n",
    "print(\"Intercept:\", intercept)\n",
    "\n",
    "Y_pred = model.predict(X)\n",
    "\n",
    "#let's visualize it\n",
    "plt.scatter(X,Y, color=\"blue\", label=\"actual data\")\n",
    "plt.plot(X, Y_pred, color=\"red\", label=\"Regression Line\")\n",
    "plt.xlabel(\"X\")\n",
    "plt.ylabel(\"Y\")\n",
    "plt.title(\"Simple Linear Regression\")\n",
    "plt.legend()\n",
    "plt.show()\n"
   ]
  },
  {
   "cell_type": "markdown",
   "id": "c9d05d4a-1852-4c25-b41f-32c0a61cecfe",
   "metadata": {},
   "source": [
    "### Question: Evaluate the goodness of fit for the regression model by calculating R-squared."
   ]
  },
  {
   "cell_type": "markdown",
   "id": "c2e9fe5d-b0a4-46b1-843c-fb3840868638",
   "metadata": {},
   "source": [
    "#### The R-squared value (coefficient of determination) measures how well the regression model fits the data.\n",
    "\n",
    "#### Formula for R-squared\n",
    "$$\n",
    "\\[\n",
    "R^2 = 1 - \\frac{SS_{\\text{res}}}{SS_{\\text{tot}}}\n",
    "\\]\n",
    "$$\n",
    "Where:\n",
    "$$\n",
    "\\(SS_{\\text{res}} = \\sum (Y_i - \\hat{Y}_i)^2\\): Residual Sum of Squares (unexplained variance).\n",
    "$$\n",
    "$$\n",
    "\\(SS_{\\text{tot}} = \\sum (Y_i - \\bar{Y})^2\\): Total Sum of Squares (total variance).\n",
    "$$\n",
    "$$\n",
    "\\(\\hat{Y}_i\\): Predicted values.\n",
    "$$\n",
    "$$\n",
    "\\(\\bar{Y}\\): Mean of actual \\(Y\\).\n",
    "$$"
   ]
  },
  {
   "cell_type": "code",
   "execution_count": 17,
   "id": "7dbd7ed1-8c2d-4f43-8e98-1c584aef3285",
   "metadata": {},
   "outputs": [
    {
     "name": "stdout",
     "output_type": "stream",
     "text": [
      "R_squared_value_manual: 0.9\n",
      "R_squared_sklearn: 0.9\n"
     ]
    }
   ],
   "source": [
    "import numpy as np\n",
    "from sklearn.linear_model import LinearRegression\n",
    "\n",
    "#let's get data\n",
    "#we will convert input(independent) into 2D\n",
    "X=np.array([1,2,3,4,5,6,7]).reshape(-1,1)\n",
    "Y=np.array([2,4,5,4,6,8,9])\n",
    "\n",
    "\n",
    "#now perform LinearRegression\n",
    "model = LinearRegression()\n",
    "model.fit(X,Y)\n",
    "\n",
    "# Predicted values\n",
    "Y_pred = model.predict(X)\n",
    "\n",
    "#calculate R-squared manually\n",
    "\n",
    "SS_res = np.sum((Y-Y_pred)**2) #residual sum of squares\n",
    "SS_tot = np.sum((Y-np.mean(Y))**2) #total sum of squares\n",
    "R_squared=1-(SS_res/SS_tot)\n",
    "\n",
    "R_squared_sklearn = model.score(X, Y)\n",
    "\n",
    "#now print the results\n",
    "print(\"R_squared_value_manual:\", R_squared)\n",
    "print(\"R_squared_sklearn:\", R_squared_sklearn)"
   ]
  },
  {
   "cell_type": "markdown",
   "id": "05455dc8-7f74-4c9c-bc16-15d1ff082e37",
   "metadata": {},
   "source": [
    "### Question: Implement multiple linear regression with the following dataset:\n",
    "X1 = [1, 2, 3, 4, 5],\n",
    "X2 = [5, 3, 6, 7, 8],\n",
    "Y = [10, 12, 14, 15, 17]"
   ]
  },
  {
   "cell_type": "code",
   "execution_count": 18,
   "id": "26d437a9-4236-4c5d-b41a-b4162ee8b018",
   "metadata": {},
   "outputs": [
    {
     "name": "stdout",
     "output_type": "stream",
     "text": [
      "Coefficients: [ 1.78333333 -0.08333333]\n",
      "Intercept: 8.733333333333333\n",
      "Predictions: [10.1        12.05       13.58333333 15.28333333 16.98333333]\n"
     ]
    }
   ],
   "source": [
    "import numpy as np\n",
    "from sklearn.linear_model import LinearRegression\n",
    "\n",
    "# Dataset\n",
    "X1 = [1, 2, 3, 4, 5]\n",
    "X2 = [5, 3, 6, 7, 8]\n",
    "Y = [10, 12, 14, 15, 17]\n",
    "\n",
    "# Prepare the feature matrix (X) and target vector (Y)\n",
    "X = np.array([X1, X2]).T  # Combine X1 and X2 into a 2D array\n",
    "Y = np.array(Y)\n",
    "\n",
    "# Create and train the model\n",
    "model = LinearRegression()\n",
    "model.fit(X, Y)\n",
    "\n",
    "# Print the coefficients and intercept\n",
    "print(\"Coefficients:\", model.coef_)\n",
    "print(\"Intercept:\", model.intercept_)\n",
    "\n",
    "# Make predictions\n",
    "predictions = model.predict(X)\n",
    "print(\"Predictions:\", predictions)\n"
   ]
  },
  {
   "cell_type": "markdown",
   "id": "97d47639-fa68-493f-8265-75aba53217d4",
   "metadata": {},
   "source": [
    "## Section 4: Advanced Topics\n"
   ]
  },
  {
   "cell_type": "markdown",
   "id": "437b1444-15e9-4a27-a5bb-6e55792251a9",
   "metadata": {},
   "source": [
    "### Question: Perform a logistic regression analysis for the following binary classification dataset:\n",
    "X = [1, 2, 3, 4, 5, 6, 7, 8, 9, 10]\n",
    "Y = [0, 0, 0, 1, 1, 1, 1, 1, 1, 1]\n"
   ]
  },
  {
   "cell_type": "markdown",
   "id": "e0765fe1-ca8b-40d6-8092-bbe506d8d301",
   "metadata": {},
   "source": [
    "#### Logistic Regression:\n",
    "    It is a statistical model used for binary classification problems, where the outcome or target variable is categorical and has two possible outcomes (e.g., 0 or 1, Yes or No, True or False). It is used to predict the probability that a given input point belongs to one of the two categories."
   ]
  },
  {
   "cell_type": "code",
   "execution_count": 32,
   "id": "67dcbb5a-874a-4b0d-b2ab-61e905dd93bd",
   "metadata": {},
   "outputs": [
    {
     "name": "stdout",
     "output_type": "stream",
     "text": [
      "Model coefficients: [[1.16075451]]\n",
      "Intercept: [-4.03332856]\n",
      "Accuracy: 1.0\n"
     ]
    },
    {
     "data": {
      "image/png": "[encoded data removed]",
      "text/plain": [
       "<Figure size 640x480 with 1 Axes>"
      ]
     },
     "metadata": {},
     "output_type": "display_data"
    }
   ],
   "source": [
    "import numpy as np\n",
    "from sklearn.linear_model import LogisticRegression\n",
    "from sklearn.metrics import accuracy_score\n",
    "import matplotlib.pyplot as plt\n",
    "\n",
    "#let's get data\n",
    "#we will convert input(independent) into 2D\n",
    "X=np.array([1, 2, 3, 4, 5, 6, 7, 8, 9, 10]).reshape(-1,1)\n",
    "Y=np.array([0, 0, 0, 1, 1, 1, 1, 1, 1, 1])\n",
    "\n",
    "\n",
    "# Create and fit the logistic regression model\n",
    "model = LogisticRegression()\n",
    "model.fit(X, Y)\n",
    "\n",
    "# Predict probabilities\n",
    "predictions = model.predict(X)\n",
    "\n",
    "# Display the model's coefficients (weights)\n",
    "print(\"Model coefficients:\", model.coef_)\n",
    "print(\"Intercept:\", model.intercept_)\n",
    "\n",
    "# Accuracy score\n",
    "accuracy = accuracy_score(Y, predictions)\n",
    "print(\"Accuracy:\", accuracy)\n",
    "\n",
    "# Generate values for the curve\n",
    "X_test = np.linspace(1, 10, 100).reshape(-1, 1)\n",
    "Y_prob = model.predict_proba(X_test)[:, 1]\n",
    "\n",
    "# Plot the results\n",
    "plt.scatter(X, Y, color='red', label='Data points')\n",
    "plt.plot(X_test, Y_prob, color='blue', label='Logistic Regression Curve')\n",
    "plt.xlabel('X')\n",
    "plt.ylabel('Predicted Probability')\n",
    "plt.title('Logistic Regression Analysis')\n",
    "plt.legend()\n",
    "plt.show()\n",
    "\n"
   ]
  },
  {
   "cell_type": "markdown",
   "id": "963c17bf-9a05-4705-a275-714c6c46cce6",
   "metadata": {},
   "source": [
    "### Question: Conduct a principal component analysis (PCA) for the following matrix:\n",
    "Matrix = [[1, 2, 3], [4, 5, 6], [7, 8, 9], [10, 11, 12]]\n"
   ]
  },
  {
   "cell_type": "code",
   "execution_count": 28,
   "id": "ba721f3f-896c-438c-8492-738ba9072f9f",
   "metadata": {},
   "outputs": [
    {
     "name": "stdout",
     "output_type": "stream",
     "text": [
      "Original Matrix:\n",
      "[[ 1  2  3]\n",
      " [ 4  5  6]\n",
      " [ 7  8  9]\n",
      " [10 11 12]]\n",
      "\n",
      "Principal Components (Reduced Matrix):\n",
      "[[-7.79422863e+00  4.41704682e-16]\n",
      " [-2.59807621e+00 -1.20464913e-16]\n",
      " [ 2.59807621e+00  1.20464913e-16]\n",
      " [ 7.79422863e+00  3.61394740e-16]]\n",
      "\n",
      "Explained Variance Ratio:\n",
      "[1.00000000e+00 2.62765018e-33]\n",
      "\n",
      "Singular Values:\n",
      "[1.16189500e+01 5.95594472e-16]\n"
     ]
    }
   ],
   "source": [
    "import numpy as np\n",
    "from sklearn.decomposition import PCA\n",
    "\n",
    "matrix = np.array([[1,2,3],\n",
    "          [4,5,6],\n",
    "          [7,8,9],\n",
    "          [10,11,12]])\n",
    "\n",
    "pca=PCA(n_components=2)\n",
    "principal_components=pca.fit_transform(matrix)\n",
    "\n",
    "# let's print output results\n",
    "print(\"Original Matrix:\")\n",
    "print(matrix)\n",
    "print(\"\\nPrincipal Components (Reduced Matrix):\")\n",
    "print(principal_components)\n",
    "print(\"\\nExplained Variance Ratio:\")\n",
    "print(pca.explained_variance_ratio_)\n",
    "print(\"\\nSingular Values:\")\n",
    "print(pca.singular_values_)"
   ]
  },
  {
   "cell_type": "markdown",
   "id": "e5baa73c-8bf1-4e9a-8e06-000c5941693f",
   "metadata": {},
   "source": [
    "### Question: Implement k-means clustering for the following dataset:\n",
    "X = [[1, 2], [2, 3], [3, 4], [8, 9], [9, 10], [10, 11]]\n"
   ]
  },
  {
   "cell_type": "code",
   "execution_count": 29,
   "id": "937a8895-8dc2-4f9c-97a3-e6cdf99c0cdf",
   "metadata": {},
   "outputs": [
    {
     "name": "stderr",
     "output_type": "stream",
     "text": [
      "C:\\ProgramData\\anaconda3\\Lib\\site-packages\\sklearn\\cluster\\_kmeans.py:1429: UserWarning: KMeans is known to have a memory leak on Windows with MKL, when there are less chunks than available threads. You can avoid it by setting the environment variable OMP_NUM_THREADS=1.\n",
      "  warnings.warn(\n"
     ]
    },
    {
     "data": {
      "image/png": "[encoded data removed]",
      "text/plain": [
       "<Figure size 640x480 with 1 Axes>"
      ]
     },
     "metadata": {},
     "output_type": "display_data"
    }
   ],
   "source": [
    "import numpy as np\n",
    "import matplotlib.pyplot as plt\n",
    "from sklearn.cluster import KMeans\n",
    "\n",
    "X = np.array([[1, 2], [2, 3], [3, 4], [8, 9], [9, 10], [10, 11]])\n",
    "\n",
    "#let's apply clustering\n",
    "kmeans = KMeans(n_clusters=2)\n",
    "kmeans.fit(X)\n",
    "\n",
    "# Get cluster centers and labels\n",
    "centroids = kmeans.cluster_centers_\n",
    "labels = kmeans.labels_\n",
    "\n",
    "# Plot the data points and centroids\n",
    "plt.scatter(X[:, 0], X[:, 1], c=labels, s=50, cmap='viridis')\n",
    "plt.scatter(centroids[:, 0], centroids[:, 1], c='red', s=200, marker='x')\n",
    "plt.show()\n"
   ]
  }
 ],
 "metadata": {
  "kernelspec": {
   "display_name": "Python 3 (ipykernel)",
   "language": "python",
   "name": "python3"
  },
  "language_info": {
   "codemirror_mode": {
    "name": "ipython",
    "version": 3
   },
   "file_extension": ".py",
   "mimetype": "text/x-python",
   "name": "python",
   "nbconvert_exporter": "python",
   "pygments_lexer": "ipython3",
   "version": "3.12.7"
  }
 },
 "nbformat": 4,
 "nbformat_minor": 5
}
