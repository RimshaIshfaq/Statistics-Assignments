{
 "cells": [
  {
   "cell_type": "markdown",
   "id": "cac9127f-b1df-42f7-a33d-8def80f17c02",
   "metadata": {},
   "source": [
    "## What is Outlier?"
   ]
  },
  {
   "cell_type": "markdown",
   "id": "8cab927e-71dc-4373-824d-3371a2781383",
   "metadata": {},
   "source": [
    "### Outlier is a data point in the dataset that is distant from all the observations. It lies outside the overall distribution of the dataset.\n"
   ]
  },
  {
   "cell_type": "markdown",
   "id": "a912307c-3d77-4cb7-b433-4d75fed70203",
   "metadata": {},
   "source": [
    "## Reason of having Outlier:\n",
    "- Variability of data\n",
    "- Experimental Measurement error\n"
   ]
  },
  {
   "cell_type": "markdown",
   "id": "24eb8289-090b-4ccd-a4ea-9e451d2e84dd",
   "metadata": {},
   "source": [
    "### Ways of detecting Outlier;\n",
    "- Z- Score\n",
    "- Interquartile Range\n",
    "- Box Plot\n",
    "- Scatter Plot"
   ]
  },
  {
   "cell_type": "markdown",
   "id": "d3d9ee10-48cf-4e46-8486-0b7f97b205bc",
   "metadata": {},
   "source": [
    "### Using Z- Score:\n",
    "\n",
    "#### Formula for Z score = (Observation — Mean)/Standard Deviation\n",
    "\n",
    "z = (X — μ) / σ"
   ]
  },
  {
   "cell_type": "code",
   "execution_count": 8,
   "id": "1cc191c2-4ad3-4e19-acb9-5dbb74e4d73a",
   "metadata": {},
   "outputs": [],
   "source": [
    "#Let's import the required libraries\n",
    "import numpy as np\n",
    "import matplotlib.pyplot as plt"
   ]
  },
  {
   "cell_type": "code",
   "execution_count": 30,
   "id": "36b4dbc3-cad1-4263-bddf-de63f4a65e9e",
   "metadata": {},
   "outputs": [],
   "source": [
    "#let's define the dataset\n",
    "dataset = [12, 15, 14, 16, 15, 14, 18, 16, 17, 15, \n",
    "          10, 13, 20, 22, 18, 23, 19, 21, 25, 30, \n",
    "          100, 24, 27, 26, 32, 35, 50]\n"
   ]
  },
  {
   "cell_type": "code",
   "execution_count": 36,
   "id": "5c4df824-a2fa-400a-bfcd-82306d1ed1c9",
   "metadata": {},
   "outputs": [
    {
     "name": "stdout",
     "output_type": "stream",
     "text": [
      "Outliers: [100]\n"
     ]
    }
   ],
   "source": [
    "#let's define the function\n",
    "\n",
    "def detect_outliers(data):\n",
    "    outliers = []  # List to store outliers\n",
    "    threshold = 3  # Z-score threshold\n",
    "    mean = np.mean(data)  # Calculate the mean of the data\n",
    "    std = np.std(data)    # Calculate the standard deviation of the data\n",
    "\n",
    "    for i in data:\n",
    "        z_score = (i - mean) / std  # Calculate the Z-score for each data point\n",
    "        if np.abs(z_score) > threshold:  # Check if the Z-score is greater than the threshold\n",
    "            outliers.append(i)  # Append the outlier (data point) to the outliers list\n",
    "\n",
    "    return outliers  # Return the list of outliers\n",
    "\n",
    "\n",
    "# Call the function to detect outliers\n",
    "outlier_pt = detect_outliers(dataset)\n",
    "\n",
    "# Print the outliers\n",
    "print(\"Outliers:\", outlier_pt)\n"
   ]
  },
  {
   "cell_type": "markdown",
   "id": "8313355a-37a1-43d2-91f7-503616e41682",
   "metadata": {},
   "source": [
    "### Using IQR:\n",
    "#### It is between the range 75% to 25% values of dataset\n",
    "\n",
    "####Steps to find:\n",
    "- Sort the data\n",
    "- Find Q1 and Q3\n",
    "- Find IQR (Q3-Q1)\n",
    "- Find lower bound Q1-(1.5*IQR)\n",
    "- Find Upper bound Q3*(1.5*IQR)\n",
    "- Anything that lies outside of upper and lower bound is dataset.\n",
    "  "
   ]
  },
  {
   "cell_type": "code",
   "execution_count": 38,
   "id": "e78274c4-0d4f-4127-bea8-382728229685",
   "metadata": {},
   "outputs": [
    {
     "data": {
      "text/plain": [
       "[10,\n",
       " 12,\n",
       " 13,\n",
       " 14,\n",
       " 14,\n",
       " 15,\n",
       " 15,\n",
       " 15,\n",
       " 16,\n",
       " 16,\n",
       " 17,\n",
       " 18,\n",
       " 18,\n",
       " 19,\n",
       " 20,\n",
       " 21,\n",
       " 22,\n",
       " 23,\n",
       " 24,\n",
       " 25,\n",
       " 26,\n",
       " 27,\n",
       " 30,\n",
       " 32,\n",
       " 35,\n",
       " 50,\n",
       " 100]"
      ]
     },
     "execution_count": 38,
     "metadata": {},
     "output_type": "execute_result"
    }
   ],
   "source": [
    "#sort the dataset\n",
    "sorted(dataset)\n"
   ]
  },
  {
   "cell_type": "code",
   "execution_count": 40,
   "id": "04251a37-410a-4ef5-8257-dc25ddaa2718",
   "metadata": {},
   "outputs": [],
   "source": [
    "Q1,Q3=np.percentile(dataset,[25,75])"
   ]
  },
  {
   "cell_type": "code",
   "execution_count": 42,
   "id": "b255572d-f427-4545-ad0c-a96bca4bb554",
   "metadata": {},
   "outputs": [
    {
     "name": "stdout",
     "output_type": "stream",
     "text": [
      "15.0 25.5\n"
     ]
    }
   ],
   "source": [
    "print(Q1,Q3)"
   ]
  },
  {
   "cell_type": "code",
   "execution_count": 46,
   "id": "9eebf4fc-43a8-4f0a-a042-76088fba0197",
   "metadata": {},
   "outputs": [
    {
     "data": {
      "text/plain": [
       "10.5"
      ]
     },
     "execution_count": 46,
     "metadata": {},
     "output_type": "execute_result"
    }
   ],
   "source": [
    "IQR=Q3-Q1\n",
    "IQR"
   ]
  },
  {
   "cell_type": "code",
   "execution_count": 51,
   "id": "c2164d55-63e2-41f2-aff5-56ef77e95514",
   "metadata": {},
   "outputs": [
    {
     "name": "stdout",
     "output_type": "stream",
     "text": [
      "-0.75 41.25\n"
     ]
    }
   ],
   "source": [
    "#find lower and upper bound\n",
    "lower_bound=Q1-(IQR*1.5)\n",
    "upper_bound=Q3+(IQR*1.5)\n",
    "print(lower_bound, upper_bound)"
   ]
  },
  {
   "cell_type": "markdown",
   "id": "7c2a1dfc-d9e5-40ea-a341-fa152aa20572",
   "metadata": {},
   "source": [
    "### Using box plot\n",
    "#### We can visually see outliers using box plot, any thing outside whiskers is outliers.\n",
    "\n"
   ]
  },
  {
   "cell_type": "code",
   "execution_count": 55,
   "id": "861d91d3-c40e-4940-aa24-8d5bda49ee24",
   "metadata": {},
   "outputs": [
    {
     "data": {
      "image/png": "[encoded data removed]",
      "text/plain": [
       "<Figure size 800x600 with 1 Axes>"
      ]
     },
     "metadata": {},
     "output_type": "display_data"
    }
   ],
   "source": [
    "import matplotlib.pyplot as plt\n",
    "import seaborn as sns\n",
    "import pandas as pd\n",
    "\n",
    "# Your dataset\n",
    "data = [12, 15, 14, 16, 15, 14, 18, 16, 17, 15, \n",
    "        10, 13, 20, 22, 18, 23, 19, 21, 25, 30, \n",
    "        100, 24, 27, 26, 32, 35, 50]\n",
    "\n",
    "# Convert the dataset into a pandas DataFrame\n",
    "df = pd.DataFrame(data, columns=[\"Values\"])\n",
    "\n",
    "# Create a box plot\n",
    "plt.figure(figsize=(8,6))\n",
    "sns.boxplot(data=df)\n",
    "\n",
    "# Add title and labels\n",
    "plt.title(\"Box Plot for Provided Dataset\")\n",
    "plt.ylabel(\"Data Points\")\n",
    "\n",
    "# Show the plot\n",
    "plt.show()\n"
   ]
  },
  {
   "cell_type": "markdown",
   "id": "8e0595c9-8635-422a-a884-a73620b895f0",
   "metadata": {},
   "source": [
    "### Using Scatter Plot"
   ]
  },
  {
   "cell_type": "code",
   "execution_count": 2,
   "id": "e208b4d1-a7db-44b6-9ca8-54ecdd7f7780",
   "metadata": {},
   "outputs": [
    {
     "data": {
      "image/png": "[encoded data removed]",
      "text/plain": [
       "<Figure size 640x480 with 1 Axes>"
      ]
     },
     "metadata": {},
     "output_type": "display_data"
    }
   ],
   "source": [
    "import matplotlib.pyplot as plt\n",
    "\n",
    "# Data\n",
    "data = [12, 15, 14, 16, 15, 14, 18, 16, 17, 15, \n",
    "        10, 13, 20, 22, 18, 23, 19, 21, 25, 30, \n",
    "        100, 24, 27, 26, 32, 35, 50]\n",
    "\n",
    "# Generate indices for x-axis\n",
    "x = range(len(data))  # Indices from 0 to len(data) - 1\n",
    "\n",
    "# Create scatter plot\n",
    "plt.scatter(x, data, color='blue', label='Data Points')\n",
    "\n",
    "# Add labels and a title\n",
    "plt.xlabel('Index')\n",
    "plt.ylabel('Value')\n",
    "plt.title('Scatter Plot of Data')\n",
    "\n",
    "# Add a legend\n",
    "plt.legend()\n",
    "\n",
    "# Show the plot\n",
    "plt.show()\n"
   ]
  }
 ],
 "metadata": {
  "kernelspec": {
   "display_name": "Python 3 (ipykernel)",
   "language": "python",
   "name": "python3"
  },
  "language_info": {
   "codemirror_mode": {
    "name": "ipython",
    "version": 3
   },
   "file_extension": ".py",
   "mimetype": "text/x-python",
   "name": "python",
   "nbconvert_exporter": "python",
   "pygments_lexer": "ipython3",
   "version": "3.12.7"
  }
 },
 "nbformat": 4,
 "nbformat_minor": 5
}
